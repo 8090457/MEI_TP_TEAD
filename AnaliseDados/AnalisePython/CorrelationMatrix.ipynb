{
 "cells": [
  {
   "cell_type": "code",
   "execution_count": 6,
   "metadata": {},
   "outputs": [],
   "source": [
    "import pandas as pd\n",
    "import matplotlib.pyplot as plt\n",
    "import seaborn as sns\n",
    "from sklearn.preprocessing import LabelEncoder"
   ]
  },
  {
   "attachments": {},
   "cell_type": "markdown",
   "metadata": {},
   "source": [
    "# Import dataset"
   ]
  },
  {
   "cell_type": "code",
   "execution_count": 7,
   "metadata": {},
   "outputs": [
    {
     "name": "stdout",
     "output_type": "stream",
     "text": [
      "(69746, 33)\n",
      "hotel_ID                           int64\n",
      "Reserve_ID                         int64\n",
      "pais                               int32\n",
      "estado_reserva                     int32\n",
      "room_ID                            int64\n",
      "Q_tipo_quarto                      int32\n",
      "T_tipo_quarto                      int32\n",
      "rate_plan                          int32\n",
      "num_noites                         int64\n",
      "ocupacao                           int64\n",
      "adultos                            int64\n",
      "criancas                           int64\n",
      "bebes                              int64\n",
      "preco_euros                      float64\n",
      "dif_data_chegada_data_reserva      int64\n",
      "quantidade                         int64\n",
      "capacidade_maxima                  int64\n",
      "capacidade_max_adultos             int64\n",
      "capacidade_max_criancas            int64\n",
      "capacidade_max_bebes               int64\n",
      "localizacao                        int32\n",
      "area_localizacao                   int32\n",
      "estrelas                           int64\n",
      "idade_max_criancas                 int64\n",
      "idade_max_bebes                    int64\n",
      "qtd_quartos                        int64\n",
      "is_holiday                         int64\n",
      "event_count                        int64\n",
      "city                               int32\n",
      "tavg                             float64\n",
      "tmax                             float64\n",
      "tmin                             float64\n",
      "prcp                             float64\n",
      "dtype: object\n"
     ]
    },
    {
     "name": "stderr",
     "output_type": "stream",
     "text": [
      "C:\\Users\\Pmpa\\AppData\\Local\\Temp\\ipykernel_11804\\1859200923.py:22: SettingWithCopyWarning: \n",
      "A value is trying to be set on a copy of a slice from a DataFrame.\n",
      "Try using .loc[row_indexer,col_indexer] = value instead\n",
      "\n",
      "See the caveats in the documentation: https://pandas.pydata.org/pandas-docs/stable/user_guide/indexing.html#returning-a-view-versus-a-copy\n",
      "  data_subset[i] = le.fit_transform(data_subset[i])\n",
      "C:\\Users\\Pmpa\\AppData\\Local\\Temp\\ipykernel_11804\\1859200923.py:22: SettingWithCopyWarning: \n",
      "A value is trying to be set on a copy of a slice from a DataFrame.\n",
      "Try using .loc[row_indexer,col_indexer] = value instead\n",
      "\n",
      "See the caveats in the documentation: https://pandas.pydata.org/pandas-docs/stable/user_guide/indexing.html#returning-a-view-versus-a-copy\n",
      "  data_subset[i] = le.fit_transform(data_subset[i])\n",
      "C:\\Users\\Pmpa\\AppData\\Local\\Temp\\ipykernel_11804\\1859200923.py:22: SettingWithCopyWarning: \n",
      "A value is trying to be set on a copy of a slice from a DataFrame.\n",
      "Try using .loc[row_indexer,col_indexer] = value instead\n",
      "\n",
      "See the caveats in the documentation: https://pandas.pydata.org/pandas-docs/stable/user_guide/indexing.html#returning-a-view-versus-a-copy\n",
      "  data_subset[i] = le.fit_transform(data_subset[i])\n",
      "C:\\Users\\Pmpa\\AppData\\Local\\Temp\\ipykernel_11804\\1859200923.py:22: SettingWithCopyWarning: \n",
      "A value is trying to be set on a copy of a slice from a DataFrame.\n",
      "Try using .loc[row_indexer,col_indexer] = value instead\n",
      "\n",
      "See the caveats in the documentation: https://pandas.pydata.org/pandas-docs/stable/user_guide/indexing.html#returning-a-view-versus-a-copy\n",
      "  data_subset[i] = le.fit_transform(data_subset[i])\n",
      "C:\\Users\\Pmpa\\AppData\\Local\\Temp\\ipykernel_11804\\1859200923.py:22: SettingWithCopyWarning: \n",
      "A value is trying to be set on a copy of a slice from a DataFrame.\n",
      "Try using .loc[row_indexer,col_indexer] = value instead\n",
      "\n",
      "See the caveats in the documentation: https://pandas.pydata.org/pandas-docs/stable/user_guide/indexing.html#returning-a-view-versus-a-copy\n",
      "  data_subset[i] = le.fit_transform(data_subset[i])\n",
      "C:\\Users\\Pmpa\\AppData\\Local\\Temp\\ipykernel_11804\\1859200923.py:22: SettingWithCopyWarning: \n",
      "A value is trying to be set on a copy of a slice from a DataFrame.\n",
      "Try using .loc[row_indexer,col_indexer] = value instead\n",
      "\n",
      "See the caveats in the documentation: https://pandas.pydata.org/pandas-docs/stable/user_guide/indexing.html#returning-a-view-versus-a-copy\n",
      "  data_subset[i] = le.fit_transform(data_subset[i])\n",
      "C:\\Users\\Pmpa\\AppData\\Local\\Temp\\ipykernel_11804\\1859200923.py:22: SettingWithCopyWarning: \n",
      "A value is trying to be set on a copy of a slice from a DataFrame.\n",
      "Try using .loc[row_indexer,col_indexer] = value instead\n",
      "\n",
      "See the caveats in the documentation: https://pandas.pydata.org/pandas-docs/stable/user_guide/indexing.html#returning-a-view-versus-a-copy\n",
      "  data_subset[i] = le.fit_transform(data_subset[i])\n",
      "C:\\Users\\Pmpa\\AppData\\Local\\Temp\\ipykernel_11804\\1859200923.py:22: SettingWithCopyWarning: \n",
      "A value is trying to be set on a copy of a slice from a DataFrame.\n",
      "Try using .loc[row_indexer,col_indexer] = value instead\n",
      "\n",
      "See the caveats in the documentation: https://pandas.pydata.org/pandas-docs/stable/user_guide/indexing.html#returning-a-view-versus-a-copy\n",
      "  data_subset[i] = le.fit_transform(data_subset[i])\n"
     ]
    }
   ],
   "source": [
    "data = pd.read_csv('../../Datasets/FinalDataSet.csv', delimiter=';')\n",
    "\n",
    "columns = ['hotel_ID', 'Reserve_ID', 'pais', 'estado_reserva', 'room_ID', 'Q_tipo_quarto', 'T_tipo_quarto',\n",
    "           'rate_plan', 'num_noites', 'ocupacao', 'adultos',\n",
    "           'criancas', 'bebes', 'preco_euros', 'dif_data_chegada_data_reserva', 'quantidade', 'capacidade_maxima',\n",
    "           'capacidade_max_adultos', 'capacidade_max_criancas', 'capacidade_max_bebes', 'localizacao',\n",
    "           'area_localizacao', 'estrelas', 'idade_max_criancas', 'idade_max_bebes',\n",
    "           'qtd_quartos', 'is_holiday', 'event_count', 'city', 'tavg', 'tmax', 'tmin', 'prcp']\n",
    "data_subset = data[columns]\n",
    "vars_to_encode = [\n",
    "    \"pais\",\n",
    "    \"estado_reserva\",\n",
    "    \"Q_tipo_quarto\",\n",
    "    \"rate_plan\",\n",
    "    \"T_tipo_quarto\",\n",
    "    \"localizacao\",\n",
    "    \"area_localizacao\",\n",
    "    \"city\",\n",
    "]\n",
    "le = LabelEncoder()\n",
    "for i in vars_to_encode:\n",
    "    data_subset[i] = le.fit_transform(data_subset[i])\n",
    "\n",
    "print(data_subset.shape)\n",
    "print(data_subset.dtypes)"
   ]
  },
  {
   "cell_type": "code",
   "execution_count": 8,
   "metadata": {},
   "outputs": [],
   "source": [
    "correlation_matrix = data_subset.corr()\n",
    "\n",
    "plt.figure(figsize=(20, 15))\n",
    "sns.heatmap(correlation_matrix, annot=True, cmap='coolwarm', fmt=\".2f\", linewidths=0.5)\n",
    "plt.title('Correlation Matrix')\n",
    "plt.show()"
   ]
  },
  {
   "cell_type": "code",
   "execution_count": null,
   "metadata": {},
   "outputs": [],
   "source": []
  }
 ],
 "metadata": {
  "kernelspec": {
   "display_name": "Python 3.10.3 64-bit",
   "language": "python",
   "name": "python3"
  },
  "language_info": {
   "codemirror_mode": {
    "name": "ipython",
    "version": 3
   },
   "file_extension": ".py",
   "mimetype": "text/x-python",
   "name": "python",
   "nbconvert_exporter": "python",
   "pygments_lexer": "ipython3",
   "version": "3.11.3"
  },
  "orig_nbformat": 4,
  "vscode": {
   "interpreter": {
    "hash": "369f2c481f4da34e4445cda3fffd2e751bd1c4d706f27375911949ba6bb62e1c"
   }
  }
 },
 "nbformat": 4,
 "nbformat_minor": 2
}
