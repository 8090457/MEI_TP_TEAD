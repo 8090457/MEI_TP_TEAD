{
 "cells": [
  {
   "cell_type": "code",
   "execution_count": 4,
   "metadata": {},
   "outputs": [],
   "source": [
    "import pandas as pd\n",
    "import matplotlib.pyplot as plt\n",
    "import seaborn as sns\n",
    "from sklearn.preprocessing import LabelEncoder"
   ]
  },
  {
   "attachments": {},
   "cell_type": "markdown",
   "metadata": {},
   "source": [
    "# Import dataset"
   ]
  },
  {
   "cell_type": "code",
   "execution_count": 5,
   "metadata": {},
   "outputs": [
    {
     "name": "stdout",
     "output_type": "stream",
     "text": [
      "(78020, 52)\n",
      "hotel_ID                                 int64\n",
      "Reserve_ID                               int64\n",
      "pais                                    object\n",
      "estado_reserva                          object\n",
      "room_ID                                  int64\n",
      "Q_tipo_quarto                           object\n",
      "rate_plan                               object\n",
      "data_reserva                            object\n",
      "data_chegada                            object\n",
      "data_partida                            object\n",
      "num_noites                               int64\n",
      "ocupacao                                 int64\n",
      "adultos                                  int64\n",
      "criancas                                 int64\n",
      "bebes                                    int64\n",
      "preco_euros                            float64\n",
      "T_tipo_quarto                           object\n",
      "quantidade                               int64\n",
      "capacidade_maxima                        int64\n",
      "capacidade_minima                        int64\n",
      "capacidade_max_adultos                   int64\n",
      "capacidade_min_adultos                   int64\n",
      "capacidade_max_criancas                  int64\n",
      "capacidade_min_criancas                  int64\n",
      "capacidade_max_bebes                     int64\n",
      "capacidade_max_camas_extra               int64\n",
      "capacidade_max_camas_extra_criancas      int64\n",
      "capacidade_max_bercos_extra              int64\n",
      "localizacao                             object\n",
      "area_localizacao                        object\n",
      "estrelas                                 int64\n",
      "idade_max_criancas                       int64\n",
      "idade_max_bebes                          int64\n",
      "hora_max_checkin                        object\n",
      "qtd_quartos                              int64\n",
      "date                                    object\n",
      "day                                    float64\n",
      "dayOfWeek                              float64\n",
      "month                                  float64\n",
      "trimester                              float64\n",
      "year                                   float64\n",
      "is_holiday                             float64\n",
      "portugueseWeekName                      object\n",
      "Location                                object\n",
      "Event                                   object\n",
      "start_Date                              object\n",
      "end_date                                object\n",
      "city                                    object\n",
      "tavg                                   float64\n",
      "tmax                                   float64\n",
      "tmin                                   float64\n",
      "prcp                                   float64\n",
      "dtype: object\n"
     ]
    }
   ],
   "source": [
    "# import the dataset and print some basic info\n",
    "df = pd.read_csv(\"../DataSetFinal.csv\", delimiter=\";\")\n",
    "print(df.shape)\n",
    "print(df.dtypes)"
   ]
  },
  {
   "cell_type": "code",
   "execution_count": 6,
   "metadata": {},
   "outputs": [
    {
     "name": "stdout",
     "output_type": "stream",
     "text": [
      "hotel_ID                                 int64\n",
      "Reserve_ID                               int64\n",
      "pais                                    object\n",
      "estado_reserva                          object\n",
      "room_ID                                  int64\n",
      "Q_tipo_quarto                           object\n",
      "rate_plan                               object\n",
      "data_reserva                            object\n",
      "data_chegada                            object\n",
      "data_partida                            object\n",
      "num_noites                               int64\n",
      "ocupacao                                 int64\n",
      "adultos                                  int64\n",
      "criancas                                 int64\n",
      "bebes                                    int64\n",
      "preco_euros                            float64\n",
      "T_tipo_quarto                           object\n",
      "quantidade                               int64\n",
      "capacidade_maxima                        int64\n",
      "capacidade_minima                        int64\n",
      "capacidade_max_adultos                   int64\n",
      "capacidade_min_adultos                   int64\n",
      "capacidade_max_criancas                  int64\n",
      "capacidade_min_criancas                  int64\n",
      "capacidade_max_bebes                     int64\n",
      "capacidade_max_camas_extra               int64\n",
      "capacidade_max_camas_extra_criancas      int64\n",
      "capacidade_max_bercos_extra              int64\n",
      "localizacao                             object\n",
      "area_localizacao                        object\n",
      "estrelas                                 int64\n",
      "idade_max_criancas                       int64\n",
      "idade_max_bebes                          int64\n",
      "hora_max_checkin                        object\n",
      "qtd_quartos                              int64\n",
      "date                                    object\n",
      "day                                    float64\n",
      "dayOfWeek                              float64\n",
      "month                                  float64\n",
      "trimester                              float64\n",
      "year                                   float64\n",
      "is_holiday                             float64\n",
      "portugueseWeekName                      object\n",
      "Location                                object\n",
      "Event                                   object\n",
      "start_Date                              object\n",
      "end_date                                object\n",
      "city                                    object\n",
      "tavg                                   float64\n",
      "tmax                                   float64\n",
      "tmin                                   float64\n",
      "prcp                                   float64\n",
      "dtype: object\n"
     ]
    },
    {
     "ename": "ValueError",
     "evalue": "could not convert string to float: '2023-02-24T18:10:31.920Z'",
     "output_type": "error",
     "traceback": [
      "\u001b[0;31m---------------------------------------------------------------------------\u001b[0m",
      "\u001b[0;31mValueError\u001b[0m                                Traceback (most recent call last)",
      "Cell \u001b[0;32mIn[6], line 25\u001b[0m\n\u001b[1;32m     22\u001b[0m df_copy \u001b[39m=\u001b[39m df\u001b[39m.\u001b[39mcopy()\n\u001b[1;32m     23\u001b[0m \u001b[39m# print(df_copy.head(10))\u001b[39;00m\n\u001b[1;32m     24\u001b[0m \u001b[39m# heatmap too see if there's correlations between variables\u001b[39;00m\n\u001b[0;32m---> 25\u001b[0m corr_matrix \u001b[39m=\u001b[39m df_copy\u001b[39m.\u001b[39;49mcorr()\n\u001b[1;32m     26\u001b[0m sns\u001b[39m.\u001b[39mheatmap(corr_matrix, cmap\u001b[39m=\u001b[39m\u001b[39m\"\u001b[39m\u001b[39mcoolwarm\u001b[39m\u001b[39m\"\u001b[39m, annot\u001b[39m=\u001b[39m\u001b[39mFalse\u001b[39;00m)\n\u001b[1;32m     27\u001b[0m plt\u001b[39m.\u001b[39mshow()\n",
      "File \u001b[0;32m~/opt/anaconda3/envs/CI/lib/python3.9/site-packages/pandas/core/frame.py:10054\u001b[0m, in \u001b[0;36mDataFrame.corr\u001b[0;34m(self, method, min_periods, numeric_only)\u001b[0m\n\u001b[1;32m  10052\u001b[0m cols \u001b[39m=\u001b[39m data\u001b[39m.\u001b[39mcolumns\n\u001b[1;32m  10053\u001b[0m idx \u001b[39m=\u001b[39m cols\u001b[39m.\u001b[39mcopy()\n\u001b[0;32m> 10054\u001b[0m mat \u001b[39m=\u001b[39m data\u001b[39m.\u001b[39;49mto_numpy(dtype\u001b[39m=\u001b[39;49m\u001b[39mfloat\u001b[39;49m, na_value\u001b[39m=\u001b[39;49mnp\u001b[39m.\u001b[39;49mnan, copy\u001b[39m=\u001b[39;49m\u001b[39mFalse\u001b[39;49;00m)\n\u001b[1;32m  10056\u001b[0m \u001b[39mif\u001b[39;00m method \u001b[39m==\u001b[39m \u001b[39m\"\u001b[39m\u001b[39mpearson\u001b[39m\u001b[39m\"\u001b[39m:\n\u001b[1;32m  10057\u001b[0m     correl \u001b[39m=\u001b[39m libalgos\u001b[39m.\u001b[39mnancorr(mat, minp\u001b[39m=\u001b[39mmin_periods)\n",
      "File \u001b[0;32m~/opt/anaconda3/envs/CI/lib/python3.9/site-packages/pandas/core/frame.py:1837\u001b[0m, in \u001b[0;36mDataFrame.to_numpy\u001b[0;34m(self, dtype, copy, na_value)\u001b[0m\n\u001b[1;32m   1835\u001b[0m \u001b[39mif\u001b[39;00m dtype \u001b[39mis\u001b[39;00m \u001b[39mnot\u001b[39;00m \u001b[39mNone\u001b[39;00m:\n\u001b[1;32m   1836\u001b[0m     dtype \u001b[39m=\u001b[39m np\u001b[39m.\u001b[39mdtype(dtype)\n\u001b[0;32m-> 1837\u001b[0m result \u001b[39m=\u001b[39m \u001b[39mself\u001b[39;49m\u001b[39m.\u001b[39;49m_mgr\u001b[39m.\u001b[39;49mas_array(dtype\u001b[39m=\u001b[39;49mdtype, copy\u001b[39m=\u001b[39;49mcopy, na_value\u001b[39m=\u001b[39;49mna_value)\n\u001b[1;32m   1838\u001b[0m \u001b[39mif\u001b[39;00m result\u001b[39m.\u001b[39mdtype \u001b[39mis\u001b[39;00m \u001b[39mnot\u001b[39;00m dtype:\n\u001b[1;32m   1839\u001b[0m     result \u001b[39m=\u001b[39m np\u001b[39m.\u001b[39marray(result, dtype\u001b[39m=\u001b[39mdtype, copy\u001b[39m=\u001b[39m\u001b[39mFalse\u001b[39;00m)\n",
      "File \u001b[0;32m~/opt/anaconda3/envs/CI/lib/python3.9/site-packages/pandas/core/internals/managers.py:1732\u001b[0m, in \u001b[0;36mBlockManager.as_array\u001b[0;34m(self, dtype, copy, na_value)\u001b[0m\n\u001b[1;32m   1730\u001b[0m         arr\u001b[39m.\u001b[39mflags\u001b[39m.\u001b[39mwriteable \u001b[39m=\u001b[39m \u001b[39mFalse\u001b[39;00m\n\u001b[1;32m   1731\u001b[0m \u001b[39melse\u001b[39;00m:\n\u001b[0;32m-> 1732\u001b[0m     arr \u001b[39m=\u001b[39m \u001b[39mself\u001b[39;49m\u001b[39m.\u001b[39;49m_interleave(dtype\u001b[39m=\u001b[39;49mdtype, na_value\u001b[39m=\u001b[39;49mna_value)\n\u001b[1;32m   1733\u001b[0m     \u001b[39m# The underlying data was copied within _interleave, so no need\u001b[39;00m\n\u001b[1;32m   1734\u001b[0m     \u001b[39m# to further copy if copy=True or setting na_value\u001b[39;00m\n\u001b[1;32m   1736\u001b[0m \u001b[39mif\u001b[39;00m na_value \u001b[39mis\u001b[39;00m \u001b[39mnot\u001b[39;00m lib\u001b[39m.\u001b[39mno_default:\n",
      "File \u001b[0;32m~/opt/anaconda3/envs/CI/lib/python3.9/site-packages/pandas/core/internals/managers.py:1794\u001b[0m, in \u001b[0;36mBlockManager._interleave\u001b[0;34m(self, dtype, na_value)\u001b[0m\n\u001b[1;32m   1792\u001b[0m     \u001b[39melse\u001b[39;00m:\n\u001b[1;32m   1793\u001b[0m         arr \u001b[39m=\u001b[39m blk\u001b[39m.\u001b[39mget_values(dtype)\n\u001b[0;32m-> 1794\u001b[0m     result[rl\u001b[39m.\u001b[39;49mindexer] \u001b[39m=\u001b[39m arr\n\u001b[1;32m   1795\u001b[0m     itemmask[rl\u001b[39m.\u001b[39mindexer] \u001b[39m=\u001b[39m \u001b[39m1\u001b[39m\n\u001b[1;32m   1797\u001b[0m \u001b[39mif\u001b[39;00m \u001b[39mnot\u001b[39;00m itemmask\u001b[39m.\u001b[39mall():\n",
      "\u001b[0;31mValueError\u001b[0m: could not convert string to float: '2023-02-24T18:10:31.920Z'"
     ]
    }
   ],
   "source": [
    "# let's find the variables that we need to encode\n",
    "print(df.dtypes)\n",
    "# label encoding\n",
    "vars_to_encode = [\n",
    "    \"pais\",\n",
    "    \"estado_reserva\",\n",
    "    \"Q_tipo_quarto\",\n",
    "    \"rate_plan\",\n",
    "    \"T_tipo_quarto\",\n",
    "    \"localizacao\",\n",
    "    \"area_localizacao\",\n",
    "    \"portugueseWeekName\",\n",
    "    \"city\",\n",
    "]\n",
    "le = LabelEncoder()\n",
    "for i in vars_to_encode:\n",
    "    df[i] = le.fit_transform(df[i])\n",
    "# print(df.head(10))\n",
    "\n",
    "# compute the correlation matrix between all columns\n",
    "# make a copy of the DataFrame\n",
    "df_copy = df.copy()\n",
    "# print(df_copy.head(10))\n",
    "# heatmap too see if there's correlations between variables\n",
    "corr_matrix = df_copy.corr()\n",
    "sns.heatmap(corr_matrix, cmap=\"coolwarm\", annot=False)\n",
    "plt.show()"
   ]
  }
 ],
 "metadata": {
  "kernelspec": {
   "display_name": "TEAD",
   "language": "python",
   "name": "python3"
  },
  "language_info": {
   "codemirror_mode": {
    "name": "ipython",
    "version": 3
   },
   "file_extension": ".py",
   "mimetype": "text/x-python",
   "name": "python",
   "nbconvert_exporter": "python",
   "pygments_lexer": "ipython3",
   "version": "3.9.16"
  },
  "orig_nbformat": 4
 },
 "nbformat": 4,
 "nbformat_minor": 2
}
