{
 "cells": [
  {
   "cell_type": "code",
   "execution_count": null,
   "metadata": {},
   "outputs": [],
   "source": [
    "import pandas as pd\n",
    "import matplotlib.pyplot as plt\n",
    "import seaborn as sns\n",
    "from sklearn.preprocessing import LabelEncoder"
   ]
  },
  {
   "attachments": {},
   "cell_type": "markdown",
   "metadata": {},
   "source": [
    "# Import dataset"
   ]
  },
  {
   "cell_type": "code",
   "execution_count": null,
   "metadata": {},
   "outputs": [],
   "source": [
    "# import the dataset and print some basic info\n",
    "df = pd.read_csv(\"../FinalDataSet.csv\", delimiter=\";\")\n",
    "print(df.shape)\n",
    "print(df.dtypes)"
   ]
  },
  {
   "cell_type": "code",
   "execution_count": null,
   "metadata": {},
   "outputs": [],
   "source": [
    "# let's find the variables that we need to encode\n",
    "print(df.dtypes)\n",
    "# label encoding\n",
    "vars_to_encode = [\n",
    "    \"pais\",\n",
    "    \"estado_reserva\",\n",
    "    \"Q_tipo_quarto\",\n",
    "    \"rate_plan\",\n",
    "    \"T_tipo_quarto\",\n",
    "    \"localizacao\",\n",
    "    \"area_localizacao\",\n",
    "    \"city\",\n",
    "]\n",
    "le = LabelEncoder()\n",
    "for i in vars_to_encode:\n",
    "    df[i] = le.fit_transform(df[i])\n",
    "# print(df.head(10))\n",
    "\n",
    "# compute the correlation matrix between all columns\n",
    "# make a copy of the DataFrame\n",
    "df_copy = df.copy()\n",
    "# print(df_copy.head(10))\n",
    "# heatmap too see if there's correlations between variables\n",
    "corr_matrix = df_copy.corr()\n",
    "sns.heatmap(corr_matrix, cmap=\"coolwarm\", annot=False)\n",
    "plt.show()"
   ]
  }
 ],
 "metadata": {
  "kernelspec": {
   "display_name": "Python 3.10.3 64-bit",
   "language": "python",
   "name": "python3"
  },
  "language_info": {
   "codemirror_mode": {
    "name": "ipython",
    "version": 3
   },
   "file_extension": ".py",
   "mimetype": "text/x-python",
   "name": "python",
   "nbconvert_exporter": "python",
   "pygments_lexer": "ipython3",
   "version": "3.10.3"
  },
  "orig_nbformat": 4,
  "vscode": {
   "interpreter": {
    "hash": "369f2c481f4da34e4445cda3fffd2e751bd1c4d706f27375911949ba6bb62e1c"
   }
  }
 },
 "nbformat": 4,
 "nbformat_minor": 2
}
