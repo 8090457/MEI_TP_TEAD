{
 "cells": [
  {
   "cell_type": "code",
   "execution_count": 1,
   "metadata": {},
   "outputs": [],
   "source": [
    "import pandas as pd\n",
    "import matplotlib.pyplot as plt\n",
    "import numpy as np\n",
    "import seaborn as sns\n",
    "import math\n",
    "import Analises as an"
   ]
  },
  {
   "cell_type": "markdown",
   "metadata": {},
   "source": [
    "# Columns names"
   ]
  },
  {
   "cell_type": "code",
   "execution_count": 2,
   "metadata": {},
   "outputs": [],
   "source": [
    "hotel_id = \"Hotel ID\"\n",
    "estrelas = \"Estrelas\"\n",
    "idade_max_criancas = \"Idade Máxima de Crianças (Anos)\"\n",
    "idade_max_bebes = \"Idade Máxima de Bebés (Meses)\"\n",
    "qtdd_quartos = \"Quantidade de quartos\""
   ]
  },
  {
   "attachments": {},
   "cell_type": "markdown",
   "metadata": {},
   "source": [
    "### Read Data sets"
   ]
  },
  {
   "cell_type": "code",
   "execution_count": 3,
   "metadata": {},
   "outputs": [],
   "source": [
    "hotel = pd.read_csv(\"../DatasetOriginais/Hotel.csv\", delimiter=';')\n",
    "# facilities = pd.read_csv(\"../DatasetOriginais/Facilities.csv\", delimiter=';')\n",
    "# reservas = pd.read_csv(\"../DatasetOriginais/Quartos_Reservados.csv\", delimiter=';')\n",
    "# tipologias = pd.read_csv(\"../DatasetOriginais/Tipologias.csv\", delimiter=';')\n",
    "# eventos = pd.read_csv(\"../DatasetOriginais/Eventos.csv\", delimiter=';')\n",
    "# meteorologia = pd.read_csv(\"../DatasetOriginais/Meteorologia.csv\", delimiter=';')\n",
    "# feriados = pd.read_csv(\"../DatasetOriginais/Feriados.csv\", delimiter=';')\n",
    "# final = pd.read_csv(\"../DataSetFinal.csv\", delimiter=\";\")"
   ]
  },
  {
   "cell_type": "markdown",
   "metadata": {},
   "source": [
    "### Análise de quartis"
   ]
  },
  {
   "cell_type": "code",
   "execution_count": 4,
   "metadata": {},
   "outputs": [
    {
     "name": "stdout",
     "output_type": "stream",
     "text": [
      "      Hotel ID  Estrelas  Idade Máxima de Crianças (Anos)  \\\n",
      "0.00      20.0       0.0                              0.0   \n",
      "0.25     314.0       0.0                              0.0   \n",
      "0.50     404.0       1.0                             10.0   \n",
      "0.75     499.0       4.0                             12.0   \n",
      "1.00     561.0       5.0                             36.0   \n",
      "\n",
      "      Idade Máxima de Bebés (Meses)  Quantidade de quartos  \n",
      "0.00                            0.0                    1.0  \n",
      "0.25                            0.0                   10.0  \n",
      "0.50                           24.0                   17.0  \n",
      "0.75                           36.0                   38.0  \n",
      "1.00                          168.0                  192.0  \n"
     ]
    }
   ],
   "source": [
    "q = hotel.quantile([0, .25, .5, .75, 1])\n",
    "\n",
    "print(q)"
   ]
  }
 ],
 "metadata": {
  "kernelspec": {
   "display_name": "Python 3.10.3 64-bit",
   "language": "python",
   "name": "python3"
  },
  "language_info": {
   "codemirror_mode": {
    "name": "ipython",
    "version": 3
   },
   "file_extension": ".py",
   "mimetype": "text/x-python",
   "name": "python",
   "nbconvert_exporter": "python",
   "pygments_lexer": "ipython3",
   "version": "3.10.3"
  },
  "orig_nbformat": 4,
  "vscode": {
   "interpreter": {
    "hash": "369f2c481f4da34e4445cda3fffd2e751bd1c4d706f27375911949ba6bb62e1c"
   }
  }
 },
 "nbformat": 4,
 "nbformat_minor": 2
}
