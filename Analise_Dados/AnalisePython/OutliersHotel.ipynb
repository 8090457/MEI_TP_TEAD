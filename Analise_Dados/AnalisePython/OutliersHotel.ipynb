{
 "cells": [
  {
   "cell_type": "code",
   "execution_count": 15,
   "metadata": {},
   "outputs": [],
   "source": [
    "import pandas as pd\n",
    "import matplotlib.pyplot as plt\n",
    "import numpy as np\n",
    "import seaborn as sns\n",
    "import math\n",
    "import Analises as an"
   ]
  },
  {
   "cell_type": "markdown",
   "metadata": {},
   "source": [
    "# Columns names"
   ]
  },
  {
   "cell_type": "code",
   "execution_count": 16,
   "metadata": {},
   "outputs": [],
   "source": [
    "hotel_id = \"Hotel ID\"\n",
    "estrelas = \"Estrelas\"\n",
    "idade_max_criancas = \"Idade Máxima de Crianças (Anos)\"\n",
    "idade_max_bebes = \"Idade Máxima de Bebés (Meses)\"\n",
    "qtdd_quartos = \"Quantidade de quartos\""
   ]
  },
  {
   "attachments": {},
   "cell_type": "markdown",
   "metadata": {},
   "source": [
    "### Read Data sets"
   ]
  },
  {
   "cell_type": "code",
   "execution_count": 17,
   "metadata": {},
   "outputs": [],
   "source": [
    "hotel = pd.read_csv(\"../DatasetOriginais/Hotel.csv\", delimiter=';')\n",
    "count_reservas_hotel = pd.read_csv(\"../DatasetsOutliers/count_reservas_hotel.csv\", delimiter=\";\")\n",
    "# facilities = pd.read_csv(\"../DatasetOriginais/Facilities.csv\", delimiter=';')\n",
    "# reservas = pd.read_csv(\"../DatasetOriginais/Quartos_Reservados.csv\", delimiter=';')\n",
    "# tipologias = pd.read_csv(\"../DatasetOriginais/Tipologias.csv\", delimiter=';')\n",
    "# eventos = pd.read_csv(\"../DatasetOriginais/Eventos.csv\", delimiter=';')\n",
    "# meteorologia = pd.read_csv(\"../DatasetOriginais/Meteorologia.csv\", delimiter=';')\n",
    "# feriados = pd.read_csv(\"../DatasetOriginais/Feriados.csv\", delimiter=';')\n",
    "# final = pd.read_csv(\"../DataSetFinal.csv\", delimiter=\";\")"
   ]
  },
  {
   "cell_type": "markdown",
   "metadata": {},
   "source": [
    "### Análise de quartis"
   ]
  },
  {
   "cell_type": "code",
   "execution_count": 18,
   "metadata": {},
   "outputs": [
    {
     "name": "stdout",
     "output_type": "stream",
     "text": [
      "0.00       1.00\n",
      "0.25      45.75\n",
      "0.50     130.00\n",
      "0.75     229.00\n",
      "1.00    3325.00\n",
      "Name: count, dtype: float64\n"
     ]
    }
   ],
   "source": [
    "q = count_reservas_hotel[\"count\"].quantile([0, .25, .5, .75, 1])\n",
    "\n",
    "print(q)"
   ]
  },
  {
   "cell_type": "code",
   "execution_count": 20,
   "metadata": {},
   "outputs": [
    {
     "data": {
      "image/png": "[encoded data removed]",
      "text/plain": [
       "<Figure size 640x480 with 2 Axes>"
      ]
     },
     "metadata": {},
     "output_type": "display_data"
    },
    {
     "name": "stdout",
     "output_type": "stream",
     "text": [
      "    hotel_ID                                localizacao  count\n",
      "29        49                                     Lamego    196\n",
      "30       478                                    Estoril    193\n",
      "31       321                                     Aveiro    190\n",
      "32       259                                  Guimarães    185\n",
      "33       415                                   Madalena    169\n",
      "34       358                                      Porto    167\n",
      "35       560                                      Porto    165\n",
      "36       503                                     Aveiro    162\n",
      "37       413                                 Mesão Frio    162\n",
      "38        44                             Pinhão - Alijó    151\n",
      "39       492                                     Lisboa    145\n",
      "40       421                                      ELVAS    144\n",
      "41       493                                  Carnaxide    144\n",
      "42       185                          Valdigem - Lamego    134\n",
      "43       414                      São Martinho do Porto    134\n",
      "44       445                        Conceição de Tavira    126\n",
      "45       501                                     Obidos    126\n",
      "46       495                               Vale do Peso    120\n",
      "47        54                           Póvoa de Lanhoso    117\n",
      "48       391                               Torres Novas    108\n",
      "49       403                                  Ermesinde     94\n",
      "50       349                                     Lisboa     88\n",
      "51       416                                      Velas     85\n",
      "52       494                                     Lisboa     79\n",
      "53        20                                      Viseu     77\n",
      "54       283                                      Porto     74\n",
      "55       366                             Castelo Branco     74\n",
      "56       273                           Seixas - Caminha     71\n",
      "57       516                                   Portimão     67\n",
      "58       522                                   Portimão     62\n",
      "59       285                                      Porto     62\n",
      "60       335                  Furnas S. Miguel - Açores     55\n",
      "61       332                              Lagoa, Açores     52\n",
      "62       269                                       Ovar     51\n",
      "63       483                                    Covilhã     50\n",
      "64       399                                     Tavira     49\n",
      "65       287                                      Porto     47\n",
      "66       404                        Valpedre - Penafiel     42\n",
      "67       284                                      Porto     37\n",
      "68       526                                     Açores     36\n",
      "69       433                                     Aveiro     32\n",
      "70       490                                     Lisboa     31\n",
      "71       368                               Olhos D'Água     30\n",
      "72       400                                     Silves     30\n",
      "73       559                                    Benafim     28\n",
      "74       225                                      Porto     24\n",
      "75       320                                     Aveiro     23\n",
      "76       241                                     Lisboa     23\n",
      "77       356                           Valença do Minho     20\n",
      "78       561                                   Alcanena     18\n",
      "79       327                            Câmara de Lobos     18\n",
      "80       558                                    Funchal     15\n",
      "81       546                                       Alte     15\n",
      "82       389  São Vicente Ferreira, São Miguel - Açores     13\n",
      "83       390                                      Alijó      5\n",
      "84       302                                      Tomar      5\n",
      "85       491                                  Vilamoura      5\n",
      "86       442                                    Funchal      4\n",
      "87       513                                     Tavira      1\n"
     ]
    },
    {
     "data": {
      "text/plain": [
       "59"
      ]
     },
     "execution_count": 20,
     "metadata": {},
     "output_type": "execute_result"
    }
   ],
   "source": [
    "\n",
    "value = 200\n",
    "an.outliersSimple(count_reservas_hotel, \"count\", value)\n",
    "\n",
    "a = count_reservas_hotel[count_reservas_hotel[\"count\"] <= value]\n",
    "print(a)\n",
    "a.index.to_list().__len__()"
   ]
  }
 ],
 "metadata": {
  "kernelspec": {
   "display_name": "Python 3.10.3 64-bit",
   "language": "python",
   "name": "python3"
  },
  "language_info": {
   "codemirror_mode": {
    "name": "ipython",
    "version": 3
   },
   "file_extension": ".py",
   "mimetype": "text/x-python",
   "name": "python",
   "nbconvert_exporter": "python",
   "pygments_lexer": "ipython3",
   "version": "3.10.3"
  },
  "orig_nbformat": 4,
  "vscode": {
   "interpreter": {
    "hash": "369f2c481f4da34e4445cda3fffd2e751bd1c4d706f27375911949ba6bb62e1c"
   }
  }
 },
 "nbformat": 4,
 "nbformat_minor": 2
}
