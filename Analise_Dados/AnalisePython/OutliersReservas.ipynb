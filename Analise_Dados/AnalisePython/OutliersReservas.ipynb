{
 "cells": [
  {
   "cell_type": "code",
   "execution_count": null,
   "metadata": {},
   "outputs": [],
   "source": [
    "import pandas as pd\n",
    "import matplotlib.pyplot as plt\n",
    "import numpy as np\n",
    "import seaborn as sns\n",
    "import math\n",
    "import Analises as an"
   ]
  },
  {
   "cell_type": "markdown",
   "metadata": {},
   "source": [
    "# Columns names"
   ]
  },
  {
   "cell_type": "code",
   "execution_count": null,
   "metadata": {},
   "outputs": [],
   "source": [
    "num_noites = \"Número de noites\"\n",
    "ocupacao = \"Ocupação\"\n",
    "adultos = \"Adultos\"\n",
    "criancas = \"Crianças\"\n",
    "bebes = \"Bebés\"\n",
    "preco = \"Preço (€)\""
   ]
  },
  {
   "attachments": {},
   "cell_type": "markdown",
   "metadata": {},
   "source": [
    "### Read Data sets"
   ]
  },
  {
   "cell_type": "code",
   "execution_count": null,
   "metadata": {},
   "outputs": [],
   "source": [
    "# hotel = pd.read_csv(\"../DatasetOriginais/Hotel.csv\", delimiter=';')\n",
    "# facilities = pd.read_csv(\"../DatasetOriginais/Facilities.csv\", delimiter=';')\n",
    "reservas = pd.read_csv(\"../DatasetOriginais/Quartos_Reservados.csv\", delimiter=';')\n",
    "# tipologias = pd.read_csv(\"../DatasetOriginais/Tipologias.csv\", delimiter=';')\n",
    "# eventos = pd.read_csv(\"../DatasetOriginais/Eventos.csv\", delimiter=';')\n",
    "# meteorologia = pd.read_csv(\"../DatasetOriginais/Meteorologia.csv\", delimiter=';')\n",
    "# feriados = pd.read_csv(\"../DatasetOriginais/Feriados.csv\", delimiter=';')\n",
    "# final = pd.read_csv(\"../DataSetFinal.csv\", delimiter=\";\")"
   ]
  },
  {
   "cell_type": "markdown",
   "metadata": {},
   "source": [
    "### Análise de quartis"
   ]
  },
  {
   "cell_type": "code",
   "execution_count": null,
   "metadata": {},
   "outputs": [],
   "source": [
    "q = reservas[[num_noites, ocupacao, adultos, criancas, bebes, preco]].quantile([0, .25, .5, .75, 1])\n",
    "\n",
    "print(q)"
   ]
  },
  {
   "attachments": {},
   "cell_type": "markdown",
   "metadata": {},
   "source": [
    "### Outliers reservas / Num noites"
   ]
  },
  {
   "cell_type": "code",
   "execution_count": null,
   "metadata": {},
   "outputs": [],
   "source": [
    "an.outliersWithPieChart(reservas, num_noites, reservas[num_noites] <= 14)\n",
    "count = len(reservas[reservas[num_noites] > 14])\n",
    "print(count)\n"
   ]
  },
  {
   "cell_type": "markdown",
   "metadata": {},
   "source": [
    "### Outliers reservas / Ocupação"
   ]
  },
  {
   "cell_type": "code",
   "execution_count": null,
   "metadata": {},
   "outputs": [],
   "source": [
    "an.outliersWithPieChart(reservas, ocupacao, reservas[ocupacao] <= 5)"
   ]
  },
  {
   "cell_type": "markdown",
   "metadata": {},
   "source": [
    "### Adultos"
   ]
  },
  {
   "cell_type": "code",
   "execution_count": null,
   "metadata": {},
   "outputs": [],
   "source": [
    "an.outliersWithPieChart(reservas, adultos, reservas[adultos] <= 15)"
   ]
  },
  {
   "cell_type": "markdown",
   "metadata": {},
   "source": [
    "### Crianças"
   ]
  },
  {
   "cell_type": "code",
   "execution_count": null,
   "metadata": {},
   "outputs": [],
   "source": [
    "an.outliersWithPieChart(reservas, criancas, reservas[criancas] <= 4)"
   ]
  },
  {
   "cell_type": "markdown",
   "metadata": {},
   "source": [
    "### Bebês"
   ]
  },
  {
   "cell_type": "code",
   "execution_count": null,
   "metadata": {},
   "outputs": [],
   "source": [
    "an.outliersWithPieChart(reservas, bebes, reservas[bebes] <= 10)"
   ]
  },
  {
   "cell_type": "markdown",
   "metadata": {},
   "source": [
    "### Preço"
   ]
  },
  {
   "cell_type": "code",
   "execution_count": null,
   "metadata": {},
   "outputs": [],
   "source": [
    "an.outliersSimple(reservas, preco, reservas[preco] <= 6000)"
   ]
  }
 ],
 "metadata": {
  "kernelspec": {
   "display_name": "Python 3.10.3 64-bit",
   "language": "python",
   "name": "python3"
  },
  "language_info": {
   "codemirror_mode": {
    "name": "ipython",
    "version": 3
   },
   "file_extension": ".py",
   "mimetype": "text/x-python",
   "name": "python",
   "nbconvert_exporter": "python",
   "pygments_lexer": "ipython3",
   "version": "3.10.3"
  },
  "orig_nbformat": 4,
  "vscode": {
   "interpreter": {
    "hash": "369f2c481f4da34e4445cda3fffd2e751bd1c4d706f27375911949ba6bb62e1c"
   }
  }
 },
 "nbformat": 4,
 "nbformat_minor": 2
}
