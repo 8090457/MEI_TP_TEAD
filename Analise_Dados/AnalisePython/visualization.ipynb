{
 "cells": [
  {
   "cell_type": "code",
   "execution_count": 16,
   "metadata": {},
   "outputs": [],
   "source": [
    "import pandas as pd\n",
    "import matplotlib.pyplot as plt\n",
    "import numpy as np\n",
    "import seaborn as sns\n",
    "import math"
   ]
  },
  {
   "attachments": {},
   "cell_type": "markdown",
   "metadata": {},
   "source": [
    "### Read Data sets"
   ]
  },
  {
   "cell_type": "code",
   "execution_count": 21,
   "metadata": {},
   "outputs": [],
   "source": [
    "hotel = pd.read_csv(\"../DatasetOriginais/Hotel.csv\", delimiter=';')\n",
    "facilities = pd.read_csv(\"../DatasetOriginais/Facilities.csv\", delimiter=';')\n",
    "reservas = pd.read_csv(\"../DatasetOriginais/Quartos_Reservados.csv\", delimiter=';')\n",
    "tipologias = pd.read_csv(\"../DatasetOriginais/Tipologias.csv\", delimiter=';')\n",
    "eventos = pd.read_csv(\"../DatasetOriginais/Eventos.csv\", delimiter=';')\n",
    "meteorologia = pd.read_csv(\"../DatasetOriginais/Meteorologia.csv\", delimiter=';')\n",
    "feriados = pd.read_csv(\"../DatasetOriginais/Feriados.csv\", delimiter=';')\n",
    "final = pd.read_csv(\"../DataSetFinal.csv\", delimiter=\";\")"
   ]
  },
  {
   "attachments": {},
   "cell_type": "markdown",
   "metadata": {},
   "source": [
    "### Outliers das reservas"
   ]
  },
  {
   "cell_type": "code",
   "execution_count": 30,
   "metadata": {},
   "outputs": [
    {
     "name": "stdout",
     "output_type": "stream",
     "text": [
      "1.0 1.0 1.0 3.0 481.0\n"
     ]
    }
   ],
   "source": [
    "q0 = reservas[\"Número de noites\"].quantile(0)\n",
    "q1 = reservas[\"Número de noites\"].quantile(0.25)\n",
    "q2 = reservas[\"Número de noites\"].quantile(0.5)\n",
    "q3 = reservas[\"Número de noites\"].quantile(0.75)\n",
    "q4 = reservas[\"Número de noites\"].quantile(1)\n",
    "\n",
    "print(q0, q1, q2, q3, q4)\n",
    "\n",
    "reservas.filter()"
   ]
  }
 ],
 "metadata": {
  "kernelspec": {
   "display_name": "CI",
   "language": "python",
   "name": "python3"
  },
  "language_info": {
   "codemirror_mode": {
    "name": "ipython",
    "version": 3
   },
   "file_extension": ".py",
   "mimetype": "text/x-python",
   "name": "python",
   "nbconvert_exporter": "python",
   "pygments_lexer": "ipython3",
   "version": "3.10.11"
  },
  "orig_nbformat": 4
 },
 "nbformat": 4,
 "nbformat_minor": 2
}
