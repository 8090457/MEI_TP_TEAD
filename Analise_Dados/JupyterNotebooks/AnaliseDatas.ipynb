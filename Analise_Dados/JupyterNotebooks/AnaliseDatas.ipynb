{
 "cells": [
  {
   "cell_type": "code",
   "execution_count": 46,
   "metadata": {},
   "outputs": [
    {
     "name": "stdout",
     "output_type": "stream",
     "text": [
      "root\n",
      " |-- hotel_ID: integer (nullable = true)\n",
      " |-- Reserve_ID: integer (nullable = true)\n",
      " |-- pais: string (nullable = true)\n",
      " |-- estado_reserva: string (nullable = true)\n",
      " |-- room_ID: integer (nullable = true)\n",
      " |-- tipo_quarto: string (nullable = true)\n",
      " |-- rate_plan: string (nullable = true)\n",
      " |-- Data da reserva: timestamp (nullable = true)\n",
      " |-- num_noites: integer (nullable = true)\n",
      " |-- ocupacao: integer (nullable = true)\n",
      " |-- adultos: integer (nullable = true)\n",
      " |-- criancas: integer (nullable = true)\n",
      " |-- bebes: integer (nullable = true)\n",
      " |-- preco_euros: double (nullable = true)\n",
      " |-- data_reserva: date (nullable = true)\n",
      " |-- data_chegada: date (nullable = true)\n",
      " |-- data_partida: date (nullable = true)\n",
      "\n",
      "+--------+----------+--------------+--------------+-------+--------------------+--------------------+--------------------+----------+--------+-------+--------+-----+-----------+------------+------------+------------+\n",
      "|hotel_ID|Reserve_ID|          pais|estado_reserva|room_ID|         tipo_quarto|           rate_plan|     Data da reserva|num_noites|ocupacao|adultos|criancas|bebes|preco_euros|data_reserva|data_chegada|data_partida|\n",
      "+--------+----------+--------------+--------------+-------+--------------------+--------------------+--------------------+----------+--------+-------+--------+-----+-----------+------------+------------+------------+\n",
      "|     311|   1418210|       Espanha|     Registado|   1407|DB - Quarto Duplo...|    DB Room Only NRF|2022-01-01 10:17:...|         1|       2|      2|       0|    2|       63.0|  2022-01-01|  2022-01-02|  2022-01-03|\n",
      "|     309|   1418228|      Portugal|    Modificada|   1372|Quarto Duplo Stan...|           DB RO NRF|2022-01-01 12:19:...|         1|       2|      2|       0|    2|       38.7|  2022-01-01|  2022-01-01|  2022-01-02|\n",
      "|     395|   1418293|         Suiça|     Registado|   1829|     Estúdio Jardim |            Standard|2022-01-01 17:34:...|         2|       2|      4|       0|    2|      500.0|  2022-01-01|  2022-08-16|  2022-08-18|\n",
      "|     283|   1418305|       Holanda|     Registado|   1241|             Estudio|            Standard|2022-01-01 18:30:...|         3|       1|      1|       0|    1|      126.0|  2022-01-01|  2022-01-02|  2022-01-05|\n",
      "|     444|   1418314|Estados Unidos|     Registado|   2074|Duplo ou Twin  Vi...|              Normal|2022-01-01 19:00:...|         1|       1|      1|       0|    1|       80.0|  2022-01-01|  2022-01-07|  2022-01-08|\n",
      "|     535|   1418316|      Portugal|     Registado|   2783|            Bungalow|             WebSite|2022-01-01 19:23:...|         2|       2|      2|       0|    2|      135.0|  2022-01-01|  2022-01-04|  2022-01-06|\n",
      "|     539|   1418318|      Portugal|     Registado|   2542|Quarto Dpl. Standard|                 Bar|2022-01-01 19:27:...|         1|       1|      1|       0|    1|       30.0|  2022-01-01|  2022-01-02|  2022-01-03|\n",
      "|     535|   1418332|      Portugal|     Registado|   2526|     Quarto Familiar|             WebSite|2022-01-01 20:46:...|         2|       2|      2|       0|    2|      162.0|  2022-01-01|  2022-01-02|  2022-01-04|\n",
      "|     414|   1418334|      Portugal|     Registado|   2049|        Suite Junior|        Normal - Bar|2022-01-01 21:06:...|         1|       2|      2|       0|    2|      100.0|  2022-01-01|  2022-01-02|  2022-01-03|\n",
      "|     556|   1418346|      Portugal|     Registado|   2831|Double Room Standard|NRF - Non Refundable|2022-01-01 21:51:...|         2|       2|      2|       0|    2|      105.6|  2022-01-01|  2022-01-06|  2022-01-08|\n",
      "|     556|   1418346|      Portugal|     Registado|   2833|Triple Room Standard|NRF - Non Refundable|2022-01-01 21:51:...|         2|       3|      3|       0|    3|      158.4|  2022-01-01|  2022-01-06|  2022-01-08|\n",
      "|     285|   1418404|       Bélgica|     Registado|   1288|              STUDIO|                  7N|2022-01-02 11:09:...|         9|       2|      2|       0|    2|      367.2|  2022-01-02|  2022-05-12|  2022-05-21|\n",
      "|     535|   1418455|      Portugal|      Pendente|   2523|        Quarto Duplo|             WebSite|2022-01-02 14:08:...|         1|       2|      2|       0|    2|       58.5|  2022-01-02|  2022-01-02|  2022-01-03|\n",
      "|     556|   1418531|      Portugal|     Registado|   2831|Double Room Standard|WEB (Best Availab...|2022-01-02 17:55:...|         2|       2|      2|       0|    2|      114.0|  2022-01-02|  2022-01-03|  2022-01-05|\n",
      "|     535|   1418540|      Portugal|      Pendente|   2523|        Quarto Duplo|             WebSite|2022-01-02 18:36:...|         1|       2|      2|       0|    2|       58.5|  2022-01-02|  2022-01-05|  2022-01-06|\n",
      "|     444|   1418544|      Portugal|     Registado|   2074|Duplo ou Twin  Vi...|              Normal|2022-01-02 18:57:...|         2|       2|      2|       0|    2|      160.0|  2022-01-02|  2022-01-13|  2022-01-15|\n",
      "|     556|   1418568|      Portugal|     Cancelado|   2831|Double Room Standard|WEB (Best Availab...|2022-01-02 19:54:...|         1|       2|      2|       0|    2|       76.0|  2022-01-02|  2022-01-15|  2022-01-16|\n",
      "|     535|   1418570|      Portugal|      Pendente|   2523|        Quarto Duplo|             WebSite|2022-01-02 19:58:...|         1|       2|      2|       0|    2|       58.5|  2022-01-02|  2022-01-07|  2022-01-08|\n",
      "|     539|   1418582|      Portugal|     Registado|   2542|Quarto Dpl. Standard|                 Bar|2022-01-02 20:57:...|         2|       1|      1|       0|    1|        0.0|  2022-01-02|  2022-02-18|  2022-02-20|\n",
      "|     556|   1418600|      Portugal|      Pendente|   2831|Double Room Standard|WEB (Best Availab...|2022-01-02 22:04:...|         1|       2|      6|       0|    2|      228.0|  2022-01-02|  2022-01-08|  2022-01-09|\n",
      "+--------+----------+--------------+--------------+-------+--------------------+--------------------+--------------------+----------+--------+-------+--------+-----+-----------+------------+------------+------------+\n",
      "only showing top 20 rows\n",
      "\n"
     ]
    },
    {
     "name": "stderr",
     "output_type": "stream",
     "text": [
      "23/05/03 21:26:42 WARN CacheManager: Asked to cache already cached data.\n"
     ]
    }
   ],
   "source": [
    "from pyspark.sql import SparkSession\n",
    "from pyspark.sql.functions import *\n",
    "\n",
    "spark = SparkSession.builder.appName(\"MyApp\").getOrCreate()\n",
    "\n",
    "csvQuartosReservados = \"/Users/joaobraganca/Documents/ESTG/TEAD/MEI_TP_TEAD/Analise_Dados/DatasetOriginais/Quartos_Reservados.csv\"\n",
    "QuartosReservadosTable = \"QuartosReservados\"\n",
    "\n",
    "df = (\n",
    "    spark.read.format(\"csv\")\n",
    "    .option(\"header\", \"true\")\n",
    "    .option(\"inferSchema\", \"true\")\n",
    "    .option(\"delimiter\", \";\")\n",
    "    .option(\"trim\", \"true\")\n",
    "    .load(csvQuartosReservados)\n",
    "    .withColumnRenamed(\"Hotel ID\", \"hotel_ID\")\n",
    "    .withColumnRenamed(\"Reserve ID\", \"Reserve_ID\")\n",
    "    .withColumnRenamed(\"País\", \"pais\")\n",
    "    .withColumnRenamed(\"Estado da reserva\", \"estado_reserva\")\n",
    "    .withColumnRenamed(\"Room ID\", \"room_ID\")\n",
    "    .withColumnRenamed(\"Tipo de Quarto\", \"tipo_quarto\")\n",
    "    .withColumnRenamed(\"RatePlan\", \"rate_plan\")\n",
    "    .withColumn(\"data_reserva\", to_date(col(\"Data da reserva\"), \"dd/MM/yyyy\"))\n",
    "    .withColumn(\"data_chegada\", to_date(col(\"Data chegada\"), \"dd/MM/yyyy\"))\n",
    "    .drop(\"Data chegada\")\n",
    "    .withColumn(\"data_partida\", to_date(col(\"Data de partida\"), \"dd/MM/yyyy\"))\n",
    "    .drop(\"Data de partida\")\n",
    "    .withColumnRenamed(\"Número de noites\", \"num_noites\")\n",
    "    .withColumnRenamed(\"Ocupação\", \"ocupacao\")\n",
    "    .withColumnRenamed(\"Adultos\", \"adultos\")\n",
    "    .withColumnRenamed(\"Crianças\", \"criancas\")\n",
    "    .withColumnRenamed(\"Bebés\", \"bebes\")\n",
    "    .withColumnRenamed(\"Preço (€)\", \"preco_euros\")\n",
    ")\n",
    "\n",
    "df.createOrReplaceTempView(QuartosReservadosTable)\n",
    "df.cache()\n",
    "df.printSchema()\n",
    "df.show()"
   ]
  },
  {
   "cell_type": "code",
   "execution_count": 47,
   "metadata": {},
   "outputs": [
    {
     "data": {
      "text/plain": [
       "0"
      ]
     },
     "execution_count": 47,
     "metadata": {},
     "output_type": "execute_result"
    }
   ],
   "source": [
    "# Calcular diferença de dias\n",
    "df = df.withColumn(\"days_diff\", datediff(\"data_partida\", \"data_chegada\"))\n",
    "\n",
    "# Comparar colunas\n",
    "df = df.withColumn(\"compareDaysDiff\", when(col(\"days_diff\") == col(\"num_noites\"), True).otherwise(False))\n",
    "\n",
    "# Contar quantas linhas são falsas\n",
    "false_rows = df.filter(df.compareDaysDiff == False)\n",
    "num_false_rows = false_rows.count()\n",
    "num_false_rows"
   ]
  },
  {
   "cell_type": "code",
   "execution_count": 48,
   "metadata": {},
   "outputs": [
    {
     "data": {
      "text/plain": [
       "0"
      ]
     },
     "execution_count": 48,
     "metadata": {},
     "output_type": "execute_result"
    }
   ],
   "source": [
    "# Validar se data de partida é maior que data de chegada\n",
    "df = df.withColumn(\"partidaMaiorChegada\", when(col(\"data_chegada\") < col(\"data_partida\"), True).otherwise(False))\n",
    "\n",
    "# Contar falsos\n",
    "false_rows = df.filter(df.partidaMaiorChegada == False)\n",
    "num_false_rows = false_rows.count()\n",
    "num_false_rows"
   ]
  },
  {
   "cell_type": "code",
   "execution_count": 49,
   "metadata": {},
   "outputs": [
    {
     "data": {
      "text/plain": [
       "0"
      ]
     },
     "execution_count": 49,
     "metadata": {},
     "output_type": "execute_result"
    }
   ],
   "source": [
    "# Validar se data de reserva menor que data de chegada \n",
    "df = df.withColumn(\"reservaMenorChegada\", when(col(\"data_reserva\") <= col(\"data_chegada\"), True).otherwise(False))\n",
    "\n",
    "# Contar falsos\n",
    "false_rows = df.filter(df.reservaMenorChegada == False)\n",
    "num_false_rows = false_rows.count()\n",
    "num_false_rows"
   ]
  },
  {
   "cell_type": "code",
   "execution_count": 50,
   "metadata": {},
   "outputs": [],
   "source": [
    "df.write.csv(\"results\")"
   ]
  }
 ],
 "metadata": {
  "kernelspec": {
   "display_name": "CI",
   "language": "python",
   "name": "python3"
  },
  "language_info": {
   "codemirror_mode": {
    "name": "ipython",
    "version": 3
   },
   "file_extension": ".py",
   "mimetype": "text/x-python",
   "name": "python",
   "nbconvert_exporter": "python",
   "pygments_lexer": "ipython3",
   "version": "3.9.16"
  },
  "orig_nbformat": 4
 },
 "nbformat": 4,
 "nbformat_minor": 2
}
